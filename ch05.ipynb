{
 "cells": [
  {
   "cell_type": "markdown",
   "metadata": {},
   "source": [
    "# chapter5 순환 신경망(RNN)"
   ]
  },
  {
   "cell_type": "markdown",
   "metadata": {},
   "source": [
    "## 5.1 확률과 언어 모델"
   ]
  },
  {
   "cell_type": "markdown",
   "metadata": {},
   "source": [
    "### 5.1.1 word2vec을 확률 관점에서 바라보다\n",
    "#### $P(w_t|w_{t-1}, w_{t+1})$ : $w_{t-1}$과 $w_{t+1}$이 주어졌을때 타깃이 $w_t$가 될 확률\n",
    "#### $P(w_t|w_{t-2}, w_{t-1})$ : $w_{t-2}$과 $w_{t-1}$이 주어졌을때 타깃이 $w_t$가 될 확률\n",
    "#### $L=-logP(w_t|w_{t-2}, w_{t-1})$ : CBOW모델의 손실 함수"
   ]
  },
  {
   "cell_type": "markdown",
   "metadata": {},
   "source": [
    "### 5.1.2 언어 모델\n",
    "- 언어모델: 단어 나열에 확률을 부여"
   ]
  },
  {
   "cell_type": "markdown",
   "metadata": {},
   "source": [
    "### 5.1.3 CBOW 모델을 언어 모델로\n",
    "#### $P(w_1, ..., w_m)=\\prod_{t=1}^m P(w_t|w_1, ..., w_{t-1})=\\prod_{t=1}^m P(w_t|w_{t-2}, w_{t-1})$"
   ]
  },
  {
   "cell_type": "markdown",
   "metadata": {},
   "source": [
    "## 5.2 RNN\n",
    "- RNN (Recurrent Neural Network): 순환 신경망"
   ]
  },
  {
   "cell_type": "markdown",
   "metadata": {},
   "source": [
    "### 5.2.1 순환하는 신경망\n",
    "- RNN의 특징은 순환하는 경로가 있다는 것\n",
    "- 이 순환 경로를 따라 데이터는 끊임없이 순환할 수 있다\n",
    "- 데이터가 순환하기 때문에 과거의 정보를 기억하는 동시에 최신 데이터로 갱신 가능"
   ]
  },
  {
   "cell_type": "markdown",
   "metadata": {},
   "source": [
    "### 5.2.2 순환 구조 펼치기\n",
    "- RNN 계층: 상태를 가지는 계층, 메모리가 있는 계층\n",
    "### $h_t=RNN(x_t, h_{t-1})=tanh(h_{t-1}w_h+x_tw_x+b)$"
   ]
  },
  {
   "cell_type": "markdown",
   "metadata": {},
   "source": [
    "### 5.2.3 BPTT (BackPropagation Through Time)\n",
    "- BPTT: 시간 방향으로 펼친 신경망의 오차역전파법\n",
    "- 시계열 데이터의 시간 크기가 커지는 것에 비례해 BPTT가 소비하는 컴퓨팅 자원도 증가\n",
    "- 시간 크기가 커지면 역전파 시의 기울기가 불안정해지는 문제"
   ]
  },
  {
   "cell_type": "markdown",
   "metadata": {},
   "source": [
    "### 5.2.4 Truncated BPTT\n",
    "- 시간축 방향으로 너무 길어진 신경망을 적당한 지점에서 잘라내어 작은 신경망 여러 개로 만든다\n",
    "- 순전파의 흐름은 끊어지지 않고 전파, 역전파의 연결은 적당한 길이로 잘라내, 그 잘라낸 신경망 단위로 학습 수행"
   ]
  },
  {
   "cell_type": "markdown",
   "metadata": {},
   "source": [
    "### 5.2.5 Truncated BPTT의 미니배치 학습\n",
    "- 데이터를 순서대로 제공하기\n",
    "- 미니배치별로 데이터를 제공하는 시작 위치를 옮기기"
   ]
  },
  {
   "cell_type": "markdown",
   "metadata": {},
   "source": [
    "## 5.3 RNN 구현"
   ]
  },
  {
   "cell_type": "markdown",
   "metadata": {},
   "source": [
    "### 5.3.1 RNN 계층 구현\n",
    "#### $h_t=tanh(h_{t-1}w_h+x_tw_x+b)$\n",
    "#### $h_{t-1}$ (N x H) $w_h$ (H x H) + $x_t$(N x D) $w_x$(D x H) + $b$ (H x H) = $h_t$ (N x H)"
   ]
  },
  {
   "cell_type": "code",
   "execution_count": 1,
   "metadata": {},
   "outputs": [],
   "source": [
    "class RNN:\n",
    "    def __init__(self, Wx, Wh, b):\n",
    "        self.params = [Wx, Wh, b]\n",
    "        self.grads = [np.zeros_like(Wx), np.zeros_like(Wh), np.zeros_like(b)]\n",
    "        self.cache = None\n",
    "        \n",
    "    def forward(self, x, h_prev):\n",
    "        Wx, Wh, b = self.params\n",
    "        t = np.matmul(h_prev, Wh) + np.matmul(x, Wx) + b\n",
    "        h_next = np.tanh(t)\n",
    "        self.cache = (x, h_prev, h_next)\n",
    "        return h_next\n",
    "    \n",
    "    def backward(self, dh_next):\n",
    "        Wx, Wh, b = self.params\n",
    "        x, h_prev, h_next = self.cache\n",
    "        \n",
    "        dt = dh_next * (1 - h_next**2)\n",
    "        db = np.sum(dt, axis=0)\n",
    "        dWh = np.matmul(h_prev.T, dt)\n",
    "        dh_prev = np.matmul(dt, Wh.T)\n",
    "        dWx = np.matmul(x.T, dt)\n",
    "        dx = np.matmul(dt, Wx.T)\n",
    "        \n",
    "        self.grads[0][...] = dWh\n",
    "        self.grads[1][...] = dWx\n",
    "        self.grads[2][...] = db\n",
    "        \n",
    "        return dx, dh_next"
   ]
  },
  {
   "cell_type": "markdown",
   "metadata": {},
   "source": [
    "### 5.3.2 Time RNN 계층 구현\n",
    "- stateful: 은닉 상태를 인계받을지\n",
    "- layers: 다수의 RNN 계층을 리스트로 저장\n",
    "- h: forward() 불렀을 때 마지막 RNN 계층의 은닉 상태 저장\n",
    "- dh: backward()를 불렀을 때 하나 앞 블록의 은닉 상태의 기울기 저장\n",
    "- (N, T, D) = (미니배치 크기, T개(분량의 시계열 모음), 입력 벡터의 차원 수)"
   ]
  },
  {
   "cell_type": "code",
   "execution_count": 2,
   "metadata": {},
   "outputs": [],
   "source": [
    "class TimeRNN:\n",
    "    def __init__(self, Wx, Wh, b, stateful=False):\n",
    "        self.params = [Wx, Wh, b]\n",
    "        self.grads = [np.zeros_like(Wx), np.zeros_like(Wh), np.zeros_like(b)]\n",
    "        self.layers = None\n",
    "        self.h, self.dh = None, None\n",
    "        self.stateful = stateful\n",
    "      \n",
    "    # 은닉 상태 설정\n",
    "    def set_state(self, h):\n",
    "        self.h = h\n",
    "        \n",
    "    # 은닉 상태 초기화\n",
    "    def reset_state(self):\n",
    "        self.h = None\n",
    "        \n",
    "    def forward(self, xs):\n",
    "        Wx, Wh, b = self.params\n",
    "        N, T, D = xs.shape\n",
    "        D, H = Wx.shape\n",
    "        \n",
    "        self.layers = []\n",
    "        hs = np.empty((N, T, H), dtype='f')\n",
    "        \n",
    "        if not self.stateful or self.h is None:\n",
    "            self.h = np.zeros((N, H), dtype='f')\n",
    "            \n",
    "        for t in range(T):\n",
    "            layer = RNN(*self.params)\n",
    "            self.h = layer.forward(xs[:,t,:], self.h)\n",
    "            hs[:,t,:] = self.h\n",
    "            self.layer.append(layer)\n",
    "            \n",
    "        return hs\n",
    "    \n",
    "    def backward(self, dhs):\n",
    "        Wx, Wh, b = self.params\n",
    "        N, T, H = dhs.shape\n",
    "        D, H = Wx.shape\n",
    "        \n",
    "        dxs = np.empty((N, T, D), dtype='f')\n",
    "        dh = 0\n",
    "        grads = [0,0,0]\n",
    "        \n",
    "        for t in reversed(range(T)):\n",
    "            layer = self.layers[t]\n",
    "            dx, dh = layers.backward(dhs[:,t,:] + dh)\n",
    "            dxs[:, t, :] = dx\n",
    "            \n",
    "            for i, grad in enumerate(layers.grads):\n",
    "                grads[i] += grad\n",
    "                \n",
    "        for i, grad in enumerate(grads):\n",
    "            self.grads[i][...] = grad\n",
    "        self.dh = dh\n",
    "        \n",
    "        return dxs"
   ]
  },
  {
   "cell_type": "markdown",
   "metadata": {},
   "source": [
    "## 5.4 시계열 데이터 처리 계층 구현"
   ]
  },
  {
   "cell_type": "markdown",
   "metadata": {},
   "source": [
    "### 5.4.1 RNNLM의 전체그림\n",
    "RNNLM: RNN Language Model"
   ]
  },
  {
   "cell_type": "markdown",
   "metadata": {},
   "source": [
    "### 5.4.2 Time 계층 구현\n",
    "#### T개의 Softmax with Loss: $L={{1\\over T} {(L_0+L_1+...+L_{T-1})}}$"
   ]
  },
  {
   "cell_type": "markdown",
   "metadata": {},
   "source": [
    "## 5.5 RNNLM 학습과 평가"
   ]
  },
  {
   "cell_type": "markdown",
   "metadata": {},
   "source": [
    "### 5.5.1 RNNLM 구현"
   ]
  },
  {
   "cell_type": "code",
   "execution_count": 3,
   "metadata": {},
   "outputs": [],
   "source": [
    "import sys\n",
    "sys.path.append('..')\n",
    "import numpy as np\n",
    "from common.time_layers import *\n",
    "\n",
    "class SimpleRnnlm:\n",
    "    def __init__(self, vocab_size, wordvec_size, hidden_size):\n",
    "        V, D, H = vocab_size, wordvec_size, hidden_size\n",
    "        rn = np.random.randn\n",
    "        \n",
    "        # 가중치 초기화\n",
    "        embed_W = (rn(V, D) / 100).astype('f')\n",
    "        rnn_Wx = (rn(D, H) / np.sqrt(D)).astype('f')\n",
    "        rnn_Wh = (rn(H, H) / np.sqrt(H)).astype('f')\n",
    "        rnn_b = np.zeros(H).astype('f')\n",
    "        affine_W = (rn(H, V) / np.sqrt(H)).astype('f')\n",
    "        affine_b = np.zeros(V).astype('f')\n",
    "        \n",
    "        # 계층 생성\n",
    "        self.layers = [TimeEmbedding(embed_W),\n",
    "                       TimeRNN(rnn_Wx, rnn_Wh, rnn_b, stateful=True),\n",
    "                       TimeAffine(affine_W, affine_b)]\n",
    "        self.loss_layer = TimeSoftmaxWithLoss()\n",
    "        self.rnn_layer = self.layers[1]\n",
    "        \n",
    "        # 모든 가중치와 기울기를 리스트에 모은다\n",
    "        self.params, self.grads = [],[]\n",
    "        for layer in self.layers:\n",
    "            self.params += layer.params\n",
    "            self.grads += layer.grads\n",
    "            \n",
    "            \n",
    "    def forward(self, xs, ts):\n",
    "        for layer in self.layers:\n",
    "            xs = layer.forward(xs)\n",
    "        loss = self.loss_layer.forward(xs, ts)\n",
    "        return loss\n",
    "    \n",
    "    def backward(self, dout=1):\n",
    "        dout = self.loss_layer.backward(dout)\n",
    "        for layer in reversed(self.layers):\n",
    "            dout = layer.backward(dout)\n",
    "        return dout\n",
    "    \n",
    "    def reset_state(self):\n",
    "        self.rnn_layer.reset_state()"
   ]
  },
  {
   "cell_type": "markdown",
   "metadata": {},
   "source": [
    "### 5.5.2 언어 모델의 평가\n",
    "\n",
    "#### perplexity 혼란도 (확률의 역수)\n",
    "- 분기수: 다음에 취할 수 있는 선택사항의 수\n",
    "- perplexity가 작아질수록 분기수가 줄어 좋은 모델이 된다\n",
    "\n",
    "### $L=-{1 \\over N}{\\sum \\sum t_{nk}logy_{nk}}$\n",
    "### $perplexity = e^L$"
   ]
  },
  {
   "cell_type": "markdown",
   "metadata": {},
   "source": [
    "### 5.5.3 RNNLM의 학습 코드"
   ]
  },
  {
   "cell_type": "code",
   "execution_count": 9,
   "metadata": {
    "scrolled": true
   },
   "outputs": [
    {
     "name": "stdout",
     "output_type": "stream",
     "text": [
      "말뭉치 크기: 100, 어휘 수: 76\n",
      "| 에폭 1 | 퍼플렉서티 75.79\n",
      "| 에폭 2 | 퍼플렉서티 75.30\n",
      "| 에폭 3 | 퍼플렉서티 75.24\n",
      "| 에폭 4 | 퍼플렉서티 74.19\n",
      "| 에폭 5 | 퍼플렉서티 74.01\n",
      "| 에폭 6 | 퍼플렉서티 73.16\n",
      "| 에폭 7 | 퍼플렉서티 73.24\n",
      "| 에폭 8 | 퍼플렉서티 73.07\n",
      "| 에폭 9 | 퍼플렉서티 72.58\n",
      "| 에폭 10 | 퍼플렉서티 72.55\n",
      "| 에폭 11 | 퍼플렉서티 70.55\n",
      "| 에폭 12 | 퍼플렉서티 71.96\n",
      "| 에폭 13 | 퍼플렉서티 70.58\n",
      "| 에폭 14 | 퍼플렉서티 70.83\n",
      "| 에폭 15 | 퍼플렉서티 69.42\n",
      "| 에폭 16 | 퍼플렉서티 70.49\n",
      "| 에폭 17 | 퍼플렉서티 70.40\n",
      "| 에폭 18 | 퍼플렉서티 66.45\n",
      "| 에폭 19 | 퍼플렉서티 70.77\n",
      "| 에폭 20 | 퍼플렉서티 67.09\n",
      "| 에폭 21 | 퍼플렉서티 69.83\n",
      "| 에폭 22 | 퍼플렉서티 66.56\n",
      "| 에폭 23 | 퍼플렉서티 66.05\n",
      "| 에폭 24 | 퍼플렉서티 64.11\n",
      "| 에폭 25 | 퍼플렉서티 61.75\n",
      "| 에폭 26 | 퍼플렉서티 63.70\n",
      "| 에폭 27 | 퍼플렉서티 59.77\n",
      "| 에폭 28 | 퍼플렉서티 67.22\n",
      "| 에폭 29 | 퍼플렉서티 58.61\n",
      "| 에폭 30 | 퍼플렉서티 68.72\n",
      "| 에폭 31 | 퍼플렉서티 61.11\n",
      "| 에폭 32 | 퍼플렉서티 62.26\n",
      "| 에폭 33 | 퍼플렉서티 62.74\n",
      "| 에폭 34 | 퍼플렉서티 57.86\n",
      "| 에폭 35 | 퍼플렉서티 65.61\n",
      "| 에폭 36 | 퍼플렉서티 54.13\n",
      "| 에폭 37 | 퍼플렉서티 68.41\n",
      "| 에폭 38 | 퍼플렉서티 51.98\n",
      "| 에폭 39 | 퍼플렉서티 58.33\n",
      "| 에폭 40 | 퍼플렉서티 53.64\n",
      "| 에폭 41 | 퍼플렉서티 57.30\n",
      "| 에폭 42 | 퍼플렉서티 56.89\n",
      "| 에폭 43 | 퍼플렉서티 51.69\n",
      "| 에폭 44 | 퍼플렉서티 54.12\n",
      "| 에폭 45 | 퍼플렉서티 45.06\n",
      "| 에폭 46 | 퍼플렉서티 56.95\n",
      "| 에폭 47 | 퍼플렉서티 48.28\n",
      "| 에폭 48 | 퍼플렉서티 57.43\n",
      "| 에폭 49 | 퍼플렉서티 50.58\n",
      "| 에폭 50 | 퍼플렉서티 54.87\n",
      "| 에폭 51 | 퍼플렉서티 52.72\n",
      "| 에폭 52 | 퍼플렉서티 47.54\n",
      "| 에폭 53 | 퍼플렉서티 51.77\n",
      "| 에폭 54 | 퍼플렉서티 43.29\n",
      "| 에폭 55 | 퍼플렉서티 54.51\n",
      "| 에폭 56 | 퍼플렉서티 40.57\n",
      "| 에폭 57 | 퍼플렉서티 50.99\n",
      "| 에폭 58 | 퍼플렉서티 39.78\n",
      "| 에폭 59 | 퍼플렉서티 43.41\n",
      "| 에폭 60 | 퍼플렉서티 44.85\n",
      "| 에폭 61 | 퍼플렉서티 40.50\n",
      "| 에폭 62 | 퍼플렉서티 50.74\n",
      "| 에폭 63 | 퍼플렉서티 40.38\n",
      "| 에폭 64 | 퍼플렉서티 56.55\n",
      "| 에폭 65 | 퍼플렉서티 37.27\n",
      "| 에폭 66 | 퍼플렉서티 45.87\n",
      "| 에폭 67 | 퍼플렉서티 40.39\n",
      "| 에폭 68 | 퍼플렉서티 52.42\n",
      "| 에폭 69 | 퍼플렉서티 55.42\n",
      "| 에폭 70 | 퍼플렉서티 55.55\n",
      "| 에폭 71 | 퍼플렉서티 49.78\n",
      "| 에폭 72 | 퍼플렉서티 38.39\n",
      "| 에폭 73 | 퍼플렉서티 49.30\n",
      "| 에폭 74 | 퍼플렉서티 46.67\n",
      "| 에폭 75 | 퍼플렉서티 68.35\n",
      "| 에폭 76 | 퍼플렉서티 58.52\n",
      "| 에폭 77 | 퍼플렉서티 51.50\n",
      "| 에폭 78 | 퍼플렉서티 36.44\n",
      "| 에폭 79 | 퍼플렉서티 37.02\n",
      "| 에폭 80 | 퍼플렉서티 49.38\n",
      "| 에폭 81 | 퍼플렉서티 44.91\n",
      "| 에폭 82 | 퍼플렉서티 57.88\n",
      "| 에폭 83 | 퍼플렉서티 37.68\n",
      "| 에폭 84 | 퍼플렉서티 54.27\n",
      "| 에폭 85 | 퍼플렉서티 40.90\n",
      "| 에폭 86 | 퍼플렉서티 41.92\n",
      "| 에폭 87 | 퍼플렉서티 41.08\n",
      "| 에폭 88 | 퍼플렉서티 39.98\n",
      "| 에폭 89 | 퍼플렉서티 46.39\n",
      "| 에폭 90 | 퍼플렉서티 34.82\n",
      "| 에폭 91 | 퍼플렉서티 44.96\n",
      "| 에폭 92 | 퍼플렉서티 35.57\n",
      "| 에폭 93 | 퍼플렉서티 40.97\n",
      "| 에폭 94 | 퍼플렉서티 34.75\n",
      "| 에폭 95 | 퍼플렉서티 34.00\n",
      "| 에폭 96 | 퍼플렉서티 31.86\n",
      "| 에폭 97 | 퍼플렉서티 29.70\n",
      "| 에폭 98 | 퍼플렉서티 30.64\n",
      "| 에폭 99 | 퍼플렉서티 27.19\n",
      "| 에폭 100 | 퍼플렉서티 35.35\n"
     ]
    }
   ],
   "source": [
    "import sys\n",
    "sys.path.append('..')\n",
    "import matplotlib.pyplot as plt\n",
    "import numpy as np\n",
    "from common.optimizer import SGD\n",
    "from dataset import ptb\n",
    "#from simple_rnnlm import SimpleRnnlm\n",
    "\n",
    "# 하이퍼파라미터 설정\n",
    "batch_size = 10\n",
    "wordvec_size = 100  # RNN의 은닉 상태 벡터의 원소 수\n",
    "hidden_size = 100   # Truncated BPTT가 한 번에 펼치는 시간 크기\n",
    "time_size = 5\n",
    "lr = 0.1\n",
    "max_epoch = 100\n",
    "\n",
    "# 학습 데이터 읽기(전체 중 1000개만)\n",
    "corpus, word_to_id, id_to_word = ptb.load_data('train')\n",
    "corpus_size = 100\n",
    "corpus = corpus[:corpus_size]\n",
    "vocab_size = int(max(corpus) + 1)\n",
    "\n",
    "xs = corpus[:-1]  # 입력\n",
    "ts = corpus[1:]   # 출력 (정답 레이블)\n",
    "data_size = len(xs)\n",
    "print('말뭉치 크기: %d, 어휘 수: %d' %(corpus_size, vocab_size))\n",
    "\n",
    "# 학습시 사용하는 변수\n",
    "max_iters = data_size // (batch_size * time_size)\n",
    "time_idx = 0\n",
    "total_loss = 0\n",
    "loss_count = 0\n",
    "ppl_list = []\n",
    "\n",
    "# 모델 생성\n",
    "model = SimpleRnnlm(vocab_size, wordvec_size, hidden_size)\n",
    "optimizer = SGD(lr)\n",
    "\n",
    "# 1. 각 미니배치에서 샘플을 읽기 시작 위치를 계산\n",
    "jump = (corpus_size - 1) // batch_size\n",
    "offsets = [i*jump for i in range(batch_size)]\n",
    "\n",
    "for epoch in range(max_epoch):\n",
    "    for iter in range(max_iters):\n",
    "        # 2. 미니배치\n",
    "        batch_x = np.empty((batch_size, time_size), dtype='i')\n",
    "        batch_t = np.empty((batch_size, time_size), dtype='i')\n",
    "        for t in range(time_size):\n",
    "            for i, offset in enumerate(offsets):\n",
    "                batch_x[i, t] = xs[(offset + time_idx) % data_size]\n",
    "                batch_t[i, t] = ts[(offset + time_idx) % data_size]\n",
    "            time_idx += 1\n",
    "            \n",
    "        # 기울기를 구하여 매개변수 갱신\n",
    "        loss = model.forward(batch_x, batch_t)\n",
    "        model.backward()\n",
    "        optimizer.update(model.params, model.grads)\n",
    "        total_loss += loss\n",
    "        loss_count += 1\n",
    "        \n",
    "    # 3. 에폭마다 퍼플렉서티 평가\n",
    "    ppl = np.exp(total_loss / loss_count)\n",
    "    print('| 에폭 %d | 퍼플렉서티 %.2f' %(epoch+1, ppl))\n",
    "    ppl_list.append(float(ppl))\n",
    "    total_loss, loss_count = 0, 0"
   ]
  },
  {
   "cell_type": "code",
   "execution_count": 10,
   "metadata": {},
   "outputs": [
    {
     "data": {
      "image/png": "[encoded data removed]",
      "text/plain": [
       "<Figure size 432x288 with 1 Axes>"
      ]
     },
     "metadata": {
      "needs_background": "light"
     },
     "output_type": "display_data"
    }
   ],
   "source": [
    "x = list(range(max_epoch))\n",
    "y = ppl_list\n",
    "plt.plot(x, y)\n",
    "plt.show()"
   ]
  },
  {
   "cell_type": "markdown",
   "metadata": {},
   "source": [
    "### 5.5.4 RNNLM의 Trainer 클래스\n",
    "1. 미니배치를 '순차적'으로 만들어\n",
    "2. 모델의 순전파와 역전파를 호출하고\n",
    "3. 옵티마이저로 가중치를 갱신하고\n",
    "4. 퍼플렉서티를 구한다"
   ]
  },
  {
   "cell_type": "code",
   "execution_count": 11,
   "metadata": {
    "scrolled": true
   },
   "outputs": [
    {
     "name": "stdout",
     "output_type": "stream",
     "text": [
      "말뭉치 크기: 100, 어휘 수: 76\n",
      "| epoch 1 |  iter 1 / 1 | time 0[s] | perplexity 75.85\n",
      "| epoch 2 |  iter 1 / 1 | time 0[s] | perplexity 75.93\n",
      "| epoch 3 |  iter 1 / 1 | time 0[s] | perplexity 75.37\n",
      "| epoch 4 |  iter 1 / 1 | time 0[s] | perplexity 74.88\n",
      "| epoch 5 |  iter 1 / 1 | time 0[s] | perplexity 74.59\n",
      "| epoch 6 |  iter 1 / 1 | time 0[s] | perplexity 73.40\n",
      "| epoch 7 |  iter 1 / 1 | time 0[s] | perplexity 76.28\n",
      "| epoch 8 |  iter 1 / 1 | time 0[s] | perplexity 72.11\n",
      "| epoch 9 |  iter 1 / 1 | time 0[s] | perplexity 77.01\n",
      "| epoch 10 |  iter 1 / 1 | time 0[s] | perplexity 70.63\n",
      "| epoch 11 |  iter 1 / 1 | time 0[s] | perplexity 75.73\n",
      "| epoch 12 |  iter 1 / 1 | time 0[s] | perplexity 69.31\n",
      "| epoch 13 |  iter 1 / 1 | time 0[s] | perplexity 74.74\n",
      "| epoch 14 |  iter 1 / 1 | time 0[s] | perplexity 69.17\n",
      "| epoch 15 |  iter 1 / 1 | time 0[s] | perplexity 70.77\n",
      "| epoch 16 |  iter 1 / 1 | time 0[s] | perplexity 68.82\n",
      "| epoch 17 |  iter 1 / 1 | time 0[s] | perplexity 68.49\n",
      "| epoch 18 |  iter 1 / 1 | time 0[s] | perplexity 67.71\n",
      "| epoch 19 |  iter 1 / 1 | time 0[s] | perplexity 70.29\n",
      "| epoch 20 |  iter 1 / 1 | time 0[s] | perplexity 68.02\n",
      "| epoch 21 |  iter 1 / 1 | time 0[s] | perplexity 69.15\n",
      "| epoch 22 |  iter 1 / 1 | time 0[s] | perplexity 69.58\n",
      "| epoch 23 |  iter 1 / 1 | time 0[s] | perplexity 64.00\n",
      "| epoch 24 |  iter 1 / 1 | time 0[s] | perplexity 65.82\n",
      "| epoch 25 |  iter 1 / 1 | time 0[s] | perplexity 65.77\n",
      "| epoch 26 |  iter 1 / 1 | time 0[s] | perplexity 66.45\n",
      "| epoch 27 |  iter 1 / 1 | time 0[s] | perplexity 63.33\n",
      "| epoch 28 |  iter 1 / 1 | time 0[s] | perplexity 67.27\n",
      "| epoch 29 |  iter 1 / 1 | time 0[s] | perplexity 62.99\n",
      "| epoch 30 |  iter 1 / 1 | time 0[s] | perplexity 67.03\n",
      "| epoch 31 |  iter 1 / 1 | time 0[s] | perplexity 63.86\n",
      "| epoch 32 |  iter 1 / 1 | time 0[s] | perplexity 62.32\n",
      "| epoch 33 |  iter 1 / 1 | time 0[s] | perplexity 62.70\n",
      "| epoch 34 |  iter 1 / 1 | time 0[s] | perplexity 63.56\n",
      "| epoch 35 |  iter 1 / 1 | time 0[s] | perplexity 63.45\n",
      "| epoch 36 |  iter 1 / 1 | time 0[s] | perplexity 58.40\n",
      "| epoch 37 |  iter 1 / 1 | time 0[s] | perplexity 67.16\n",
      "| epoch 38 |  iter 1 / 1 | time 0[s] | perplexity 57.47\n",
      "| epoch 39 |  iter 1 / 1 | time 0[s] | perplexity 63.32\n",
      "| epoch 40 |  iter 1 / 1 | time 0[s] | perplexity 57.54\n",
      "| epoch 41 |  iter 1 / 1 | time 0[s] | perplexity 60.32\n",
      "| epoch 42 |  iter 1 / 1 | time 0[s] | perplexity 57.80\n",
      "| epoch 43 |  iter 1 / 1 | time 0[s] | perplexity 54.33\n",
      "| epoch 44 |  iter 1 / 1 | time 0[s] | perplexity 58.36\n",
      "| epoch 45 |  iter 1 / 1 | time 0[s] | perplexity 51.67\n",
      "| epoch 46 |  iter 1 / 1 | time 0[s] | perplexity 60.19\n",
      "| epoch 47 |  iter 1 / 1 | time 0[s] | perplexity 51.97\n",
      "| epoch 48 |  iter 1 / 1 | time 0[s] | perplexity 57.97\n",
      "| epoch 49 |  iter 1 / 1 | time 0[s] | perplexity 52.30\n",
      "| epoch 50 |  iter 1 / 1 | time 0[s] | perplexity 54.90\n",
      "| epoch 51 |  iter 1 / 1 | time 0[s] | perplexity 56.22\n",
      "| epoch 52 |  iter 1 / 1 | time 0[s] | perplexity 52.76\n",
      "| epoch 53 |  iter 1 / 1 | time 0[s] | perplexity 56.10\n",
      "| epoch 54 |  iter 1 / 1 | time 0[s] | perplexity 47.63\n",
      "| epoch 55 |  iter 1 / 1 | time 0[s] | perplexity 58.76\n",
      "| epoch 56 |  iter 1 / 1 | time 0[s] | perplexity 47.45\n",
      "| epoch 57 |  iter 1 / 1 | time 0[s] | perplexity 58.32\n",
      "| epoch 58 |  iter 1 / 1 | time 0[s] | perplexity 50.20\n",
      "| epoch 59 |  iter 1 / 1 | time 0[s] | perplexity 50.07\n",
      "| epoch 60 |  iter 1 / 1 | time 0[s] | perplexity 49.60\n",
      "| epoch 61 |  iter 1 / 1 | time 0[s] | perplexity 47.85\n",
      "| epoch 62 |  iter 1 / 1 | time 0[s] | perplexity 53.02\n",
      "| epoch 63 |  iter 1 / 1 | time 0[s] | perplexity 43.00\n",
      "| epoch 64 |  iter 1 / 1 | time 0[s] | perplexity 55.79\n",
      "| epoch 65 |  iter 1 / 1 | time 0[s] | perplexity 44.23\n",
      "| epoch 66 |  iter 1 / 1 | time 0[s] | perplexity 51.04\n",
      "| epoch 67 |  iter 1 / 1 | time 0[s] | perplexity 44.85\n",
      "| epoch 68 |  iter 1 / 1 | time 0[s] | perplexity 45.99\n",
      "| epoch 69 |  iter 1 / 1 | time 0[s] | perplexity 44.11\n",
      "| epoch 70 |  iter 1 / 1 | time 0[s] | perplexity 44.80\n",
      "| epoch 71 |  iter 1 / 1 | time 0[s] | perplexity 48.23\n",
      "| epoch 72 |  iter 1 / 1 | time 0[s] | perplexity 37.37\n",
      "| epoch 73 |  iter 1 / 1 | time 0[s] | perplexity 47.48\n",
      "| epoch 74 |  iter 1 / 1 | time 0[s] | perplexity 37.37\n",
      "| epoch 75 |  iter 1 / 1 | time 0[s] | perplexity 45.36\n",
      "| epoch 76 |  iter 1 / 1 | time 0[s] | perplexity 38.48\n",
      "| epoch 77 |  iter 1 / 1 | time 0[s] | perplexity 43.15\n",
      "| epoch 78 |  iter 1 / 1 | time 0[s] | perplexity 41.46\n",
      "| epoch 79 |  iter 1 / 1 | time 0[s] | perplexity 37.84\n",
      "| epoch 80 |  iter 1 / 1 | time 0[s] | perplexity 44.06\n",
      "| epoch 81 |  iter 1 / 1 | time 0[s] | perplexity 35.02\n",
      "| epoch 82 |  iter 1 / 1 | time 0[s] | perplexity 42.25\n",
      "| epoch 83 |  iter 1 / 1 | time 0[s] | perplexity 32.88\n",
      "| epoch 84 |  iter 1 / 1 | time 0[s] | perplexity 40.16\n",
      "| epoch 85 |  iter 1 / 1 | time 0[s] | perplexity 34.26\n",
      "| epoch 86 |  iter 1 / 1 | time 0[s] | perplexity 34.02\n",
      "| epoch 87 |  iter 1 / 1 | time 0[s] | perplexity 36.20\n",
      "| epoch 88 |  iter 1 / 1 | time 0[s] | perplexity 30.35\n",
      "| epoch 89 |  iter 1 / 1 | time 0[s] | perplexity 33.76\n",
      "| epoch 90 |  iter 1 / 1 | time 0[s] | perplexity 28.47\n",
      "| epoch 91 |  iter 1 / 1 | time 0[s] | perplexity 33.86\n",
      "| epoch 92 |  iter 1 / 1 | time 0[s] | perplexity 27.80\n",
      "| epoch 93 |  iter 1 / 1 | time 0[s] | perplexity 32.11\n",
      "| epoch 94 |  iter 1 / 1 | time 0[s] | perplexity 27.09\n",
      "| epoch 95 |  iter 1 / 1 | time 0[s] | perplexity 27.55\n",
      "| epoch 96 |  iter 1 / 1 | time 0[s] | perplexity 28.08\n",
      "| epoch 97 |  iter 1 / 1 | time 0[s] | perplexity 27.87\n",
      "| epoch 98 |  iter 1 / 1 | time 0[s] | perplexity 28.92\n",
      "| epoch 99 |  iter 1 / 1 | time 0[s] | perplexity 23.91\n",
      "| epoch 100 |  iter 1 / 1 | time 0[s] | perplexity 29.05\n"
     ]
    }
   ],
   "source": [
    "import sys\n",
    "sys.path.append('..')\n",
    "import matplotlib.pyplot as plt\n",
    "import numpy as np\n",
    "from common.optimizer import SGD\n",
    "from dataset import ptb\n",
    "from common.trainer import RnnlmTrainer\n",
    "\n",
    "# 하이퍼파라미터 설정\n",
    "batch_size = 10\n",
    "wordvec_size = 100  # RNN의 은닉 상태 벡터의 원소 수\n",
    "hidden_size = 100   # Truncated BPTT가 한 번에 펼치는 시간 크기\n",
    "time_size = 5\n",
    "lr = 0.1\n",
    "max_epoch = 100\n",
    "\n",
    "# 학습 데이터 읽기(전체 중 1000개만)\n",
    "corpus, word_to_id, id_to_word = ptb.load_data('train')\n",
    "corpus_size = 100\n",
    "corpus = corpus[:corpus_size]\n",
    "vocab_size = int(max(corpus) + 1)\n",
    "\n",
    "xs = corpus[:-1]  # 입력\n",
    "ts = corpus[1:]   # 출력 (정답 레이블)\n",
    "data_size = len(xs)\n",
    "print('말뭉치 크기: %d, 어휘 수: %d' %(corpus_size, vocab_size))\n",
    "\n",
    "# 학습시 사용하는 변수\n",
    "max_iters = data_size // (batch_size * time_size)\n",
    "time_idx = 0\n",
    "total_loss = 0\n",
    "loss_count = 0\n",
    "ppl_list = []\n",
    "\n",
    "# 모델 생성\n",
    "model = SimpleRnnlm(vocab_size, wordvec_size, hidden_size)\n",
    "optimizer = SGD(lr)\n",
    "trainer = RnnlmTrainer(model, optimizer)\n",
    "trainer.fit(xs, ts, max_epoch, batch_size, time_size)"
   ]
  },
  {
   "cell_type": "code",
   "execution_count": 15,
   "metadata": {},
   "outputs": [
    {
     "data": {
      "image/png": "[encoded data removed]",
      "text/plain": [
       "<Figure size 432x288 with 1 Axes>"
      ]
     },
     "metadata": {
      "needs_background": "light"
     },
     "output_type": "display_data"
    }
   ],
   "source": [
    "trainer.plot()"
   ]
  },
  {
   "cell_type": "code",
   "execution_count": null,
   "metadata": {},
   "outputs": [],
   "source": []
  }
 ],
 "metadata": {
  "kernelspec": {
   "display_name": "Python 3",
   "language": "python",
   "name": "python3"
  },
  "language_info": {
   "codemirror_mode": {
    "name": "ipython",
    "version": 3
   },
   "file_extension": ".py",
   "mimetype": "text/x-python",
   "name": "python",
   "nbconvert_exporter": "python",
   "pygments_lexer": "ipython3",
   "version": "3.7.5"
  }
 },
 "nbformat": 4,
 "nbformat_minor": 4
}
